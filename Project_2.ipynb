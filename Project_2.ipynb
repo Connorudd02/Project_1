{
 "cells": [
  {
   "cell_type": "code",
   "execution_count": 31,
   "metadata": {},
   "outputs": [],
   "source": [
    "import numpy as np\n",
    "import matplotlib.pyplot as plt\n",
    "import dtuimldmtools as dtu\n",
    "from scipy import stats\n",
    "import itertools"
   ]
  },
  {
   "cell_type": "markdown",
   "metadata": {},
   "source": [
    "# Load and preprocess dataset again"
   ]
  },
  {
   "cell_type": "code",
   "execution_count": 32,
   "metadata": {},
   "outputs": [],
   "source": [
    "data_path = \"data/\"\n",
    "seeds_dataset = \"seeds_dataset.txt\"\n",
    "dataset_file = data_path + seeds_dataset"
   ]
  },
  {
   "cell_type": "code",
   "execution_count": 33,
   "metadata": {},
   "outputs": [
    {
     "data": {
      "text/plain": [
       "(210, 8)"
      ]
     },
     "execution_count": 33,
     "metadata": {},
     "output_type": "execute_result"
    }
   ],
   "source": [
    "data = np.loadtxt(dataset_file)\n",
    "# Validate shape of the dataset, 210 rows with 8 attributes\n",
    "data.shape"
   ]
  },
  {
   "cell_type": "code",
   "execution_count": 34,
   "metadata": {},
   "outputs": [
    {
     "data": {
      "text/plain": [
       "(['area_A',\n",
       "  'perimeter_P',\n",
       "  'compactness_C',\n",
       "  'length_of_kernel',\n",
       "  'width_of_kernel',\n",
       "  'asymmetry_coefficient',\n",
       "  'length_of_kernel_groove',\n",
       "  'class'],\n",
       " 210,\n",
       " 8,\n",
       " array([1., 1., 1., 1., 1., 1., 1., 1., 1., 1., 1., 1., 1., 1., 1., 1., 1.,\n",
       "        1., 1., 1., 1., 1., 1., 1., 1., 1., 1., 1., 1., 1., 1., 1., 1., 1.,\n",
       "        1., 1., 1., 1., 1., 1., 1., 1., 1., 1., 1., 1., 1., 1., 1., 1., 1.,\n",
       "        1., 1., 1., 1., 1., 1., 1., 1., 1., 1., 1., 1., 1., 1., 1., 1., 1.,\n",
       "        1., 1., 2., 2., 2., 2., 2., 2., 2., 2., 2., 2., 2., 2., 2., 2., 2.,\n",
       "        2., 2., 2., 2., 2., 2., 2., 2., 2., 2., 2., 2., 2., 2., 2., 2., 2.,\n",
       "        2., 2., 2., 2., 2., 2., 2., 2., 2., 2., 2., 2., 2., 2., 2., 2., 2.,\n",
       "        2., 2., 2., 2., 2., 2., 2., 2., 2., 2., 2., 2., 2., 2., 2., 2., 2.,\n",
       "        2., 2., 2., 2., 3., 3., 3., 3., 3., 3., 3., 3., 3., 3., 3., 3., 3.,\n",
       "        3., 3., 3., 3., 3., 3., 3., 3., 3., 3., 3., 3., 3., 3., 3., 3., 3.,\n",
       "        3., 3., 3., 3., 3., 3., 3., 3., 3., 3., 3., 3., 3., 3., 3., 3., 3.,\n",
       "        3., 3., 3., 3., 3., 3., 3., 3., 3., 3., 3., 3., 3., 3., 3., 3., 3.,\n",
       "        3., 3., 3., 3., 3., 3.]),\n",
       " (210,),\n",
       " ['Kama', 'Rosa', 'Canadian'],\n",
       " 3)"
      ]
     },
     "execution_count": 34,
     "metadata": {},
     "output_type": "execute_result"
    }
   ],
   "source": [
    "X = data\n",
    "# attributeNames are not present in the dataset, just gonna hardcode based on the website\n",
    "attributeNames = [\n",
    "    \"area_A\",\n",
    "    \"perimeter_P\",\n",
    "    \"compactness_C\",\n",
    "    \"length_of_kernel\",\n",
    "    \"width_of_kernel\",\n",
    "    \"asymmetry_coefficient\",\n",
    "    \"length_of_kernel_groove\",\n",
    "    \"class\",\n",
    "]\n",
    "N = data.shape[0]\n",
    "M = data.shape[1]\n",
    "y = X[:, -1]\n",
    "# This is derived from the website\n",
    "classNames = [\"Kama\", \"Rosa\", \"Canadian\"]\n",
    "C = len(classNames)\n",
    "attributeNames, N, M, y, y.shape, classNames, C"
   ]
  },
  {
   "cell_type": "markdown",
   "metadata": {},
   "source": [
    "### Ensure zero-indexing"
   ]
  },
  {
   "cell_type": "code",
   "execution_count": 35,
   "metadata": {},
   "outputs": [
    {
     "data": {
      "text/plain": [
       "((210, 8),\n",
       " array([0., 0., 0., 0., 0., 0., 0., 0., 0., 0., 0., 0., 0., 0., 0., 0., 0.,\n",
       "        0., 0., 0., 0., 0., 0., 0., 0., 0., 0., 0., 0., 0., 0., 0., 0., 0.,\n",
       "        0., 0., 0., 0., 0., 0., 0., 0., 0., 0., 0., 0., 0., 0., 0., 0., 0.,\n",
       "        0., 0., 0., 0., 0., 0., 0., 0., 0., 0., 0., 0., 0., 0., 0., 0., 0.,\n",
       "        0., 0., 1., 1., 1., 1., 1., 1., 1., 1., 1., 1., 1., 1., 1., 1., 1.,\n",
       "        1., 1., 1., 1., 1., 1., 1., 1., 1., 1., 1., 1., 1., 1., 1., 1., 1.,\n",
       "        1., 1., 1., 1., 1., 1., 1., 1., 1., 1., 1., 1., 1., 1., 1., 1., 1.,\n",
       "        1., 1., 1., 1., 1., 1., 1., 1., 1., 1., 1., 1., 1., 1., 1., 1., 1.,\n",
       "        1., 1., 1., 1., 2., 2., 2., 2., 2., 2., 2., 2., 2., 2., 2., 2., 2.,\n",
       "        2., 2., 2., 2., 2., 2., 2., 2., 2., 2., 2., 2., 2., 2., 2., 2., 2.,\n",
       "        2., 2., 2., 2., 2., 2., 2., 2., 2., 2., 2., 2., 2., 2., 2., 2., 2.,\n",
       "        2., 2., 2., 2., 2., 2., 2., 2., 2., 2., 2., 2., 2., 2., 2., 2., 2.,\n",
       "        2., 2., 2., 2., 2., 2.]))"
      ]
     },
     "execution_count": 35,
     "metadata": {},
     "output_type": "execute_result"
    }
   ],
   "source": [
    "X[:, -1] -= 1\n",
    "X.shape, X[:, -1]"
   ]
  },
  {
   "cell_type": "markdown",
   "metadata": {},
   "source": [
    "### Remove outlier as shown from project_1"
   ]
  },
  {
   "cell_type": "code",
   "execution_count": 36,
   "metadata": {},
   "outputs": [
    {
     "data": {
      "text/plain": [
       "(209, (209, 8), (209,))"
      ]
     },
     "execution_count": 36,
     "metadata": {},
     "output_type": "execute_result"
    }
   ],
   "source": [
    "attribute_index = attributeNames.index(\"length_of_kernel\")\n",
    "lowest_index = np.argmin(X[:, 3])\n",
    "X_updated = np.delete(X, lowest_index, axis=0)\n",
    "y = np.delete(y, lowest_index, axis=0)\n",
    "N -= 1\n",
    "N, X_updated.shape, y.shape"
   ]
  },
  {
   "cell_type": "markdown",
   "metadata": {},
   "source": [
    "### Remove class column because we would not be using it for classification"
   ]
  },
  {
   "cell_type": "code",
   "execution_count": 37,
   "metadata": {},
   "outputs": [
    {
     "data": {
      "text/plain": [
       "(209, 7)"
      ]
     },
     "execution_count": 37,
     "metadata": {},
     "output_type": "execute_result"
    }
   ],
   "source": [
    "X_updated = X_updated[:, :-1]\n",
    "X_updated.shape"
   ]
  },
  {
   "cell_type": "markdown",
   "metadata": {},
   "source": [
    "### Standardize data\n",
    "Data standardization/ data scaling needs to be done if the data have huge or scattered values, machine learning model needs smaller and coherent values. Data scaling, standardize values in the data set for better results.\"\n",
    "\n",
    "https://www.kaggle.com/discussions/questions-and-answers/159183#910328"
   ]
  },
  {
   "cell_type": "code",
   "execution_count": 38,
   "metadata": {},
   "outputs": [],
   "source": [
    "# Standardize the data\n",
    "X_mean = np.mean(X_updated, axis=0)\n",
    "X_std = np.std(X_updated, axis=0)\n",
    "X_standardized = (X_updated - X_mean) / X_std"
   ]
  },
  {
   "cell_type": "code",
   "execution_count": 39,
   "metadata": {},
   "outputs": [
    {
     "data": {
      "text/plain": [
       "((209, 7), (209,))"
      ]
     },
     "execution_count": 39,
     "metadata": {},
     "output_type": "execute_result"
    }
   ],
   "source": [
    "X_standardized.shape, y.shape"
   ]
  },
  {
   "cell_type": "markdown",
   "metadata": {},
   "source": [
    "# Multiclass ANN\n",
    "Since we have three distinct classes: Kama, Rosa and Canadian, we adopt a multiclass approach. \n",
    "As complexity-controlling parameter\n",
    "for the ANN, we will use the number of hidden units3 h. Based on a few test-runs, select\n",
    "a reasonable range of values for h (which should include h = 1), and describe the range of\n",
    "values you will use for h"
   ]
  },
  {
   "cell_type": "code",
   "execution_count": 40,
   "metadata": {},
   "outputs": [],
   "source": [
    "import torch\n",
    "from torch import nn\n",
    "from sklearn import model_selection\n",
    "from dtuimldmtools import dbplotf, train_neural_net, visualize_decision_boundary"
   ]
  },
  {
   "cell_type": "code",
   "execution_count": 41,
   "metadata": {},
   "outputs": [
    {
     "data": {
      "text/plain": [
       "'cuda'"
      ]
     },
     "execution_count": 41,
     "metadata": {},
     "output_type": "execute_result"
    }
   ],
   "source": [
    "device = \"cuda\" if torch.cuda.is_available() else \"cpu\"\n",
    "device"
   ]
  },
  {
   "cell_type": "code",
   "execution_count": 42,
   "metadata": {},
   "outputs": [
    {
     "name": "stdout",
     "output_type": "stream",
     "text": [
      "Fri Mar 28 10:57:28 2025       \n",
      "+---------------------------------------------------------------------------------------+\n",
      "| NVIDIA-SMI 535.216.03             Driver Version: 535.230.02   CUDA Version: 12.2     |\n",
      "|-----------------------------------------+----------------------+----------------------+\n",
      "| GPU  Name                 Persistence-M | Bus-Id        Disp.A | Volatile Uncorr. ECC |\n",
      "| Fan  Temp   Perf          Pwr:Usage/Cap |         Memory-Usage | GPU-Util  Compute M. |\n",
      "|                                         |                      |               MIG M. |\n",
      "|=========================================+======================+======================|\n",
      "|   0  NVIDIA GeForce RTX 3060 ...    On  | 00000000:01:00.0 Off |                  N/A |\n",
      "| N/A   56C    P0              28W / 115W |    208MiB /  6144MiB |     18%      Default |\n",
      "|                                         |                      |                  N/A |\n",
      "+-----------------------------------------+----------------------+----------------------+\n",
      "                                                                                         \n",
      "+---------------------------------------------------------------------------------------+\n",
      "| Processes:                                                                            |\n",
      "|  GPU   GI   CI        PID   Type   Process name                            GPU Memory |\n",
      "|        ID   ID                                                             Usage      |\n",
      "|=======================================================================================|\n",
      "|    0   N/A  N/A      3389      G   /usr/lib/xorg/Xorg                           90MiB |\n",
      "|    0   N/A  N/A      8494      C   ...e/monkescripts/anaconda3/bin/python      110MiB |\n",
      "+---------------------------------------------------------------------------------------+\n"
     ]
    }
   ],
   "source": [
    "!nvidia-smi"
   ]
  },
  {
   "cell_type": "markdown",
   "metadata": {},
   "source": [
    "### K fold cross validation"
   ]
  },
  {
   "cell_type": "code",
   "execution_count": 43,
   "metadata": {},
   "outputs": [],
   "source": [
    "K = 5\n",
    "CV = model_selection.KFold(K, shuffle=True)"
   ]
  },
  {
   "cell_type": "code",
   "execution_count": 45,
   "metadata": {},
   "outputs": [
    {
     "data": {
      "text/plain": [
       "'cuda'"
      ]
     },
     "execution_count": 45,
     "metadata": {},
     "output_type": "execute_result"
    }
   ],
   "source": [
    "device"
   ]
  },
  {
   "cell_type": "code",
   "execution_count": 55,
   "metadata": {},
   "outputs": [
    {
     "name": "stdout",
     "output_type": "stream",
     "text": [
      "\n",
      "\tReplicate: 1/3\n",
      "\t\tIter\tLoss\t\t\tRel. loss\n",
      "\t\tFinal loss:\n",
      "\t\t300\t0.7798724\t0.000887161\n",
      "\n",
      "\tReplicate: 2/3\n",
      "\t\tIter\tLoss\t\t\tRel. loss\n",
      "\t\tFinal loss:\n",
      "\t\t300\t0.71704185\t0.001057487\n",
      "\n",
      "\tReplicate: 3/3\n",
      "\t\tIter\tLoss\t\t\tRel. loss\n",
      "\t\tFinal loss:\n",
      "\t\t300\t0.73252696\t0.0010183469\n",
      "\n",
      "\tBest loss: 0.7170418500900269\n",
      "\n",
      "Number of miss-classifications for ANN:\n",
      "\t 6 out of 42. Overall error_rate 0.1428571492433548\n",
      "\n",
      "\tReplicate: 1/3\n",
      "\t\tIter\tLoss\t\t\tRel. loss\n",
      "\t\tFinal loss:\n",
      "\t\t300\t0.74391496\t0.0008857749\n",
      "\n",
      "\tReplicate: 2/3\n",
      "\t\tIter\tLoss\t\t\tRel. loss\n",
      "\t\tFinal loss:\n",
      "\t\t300\t0.7221403\t0.0006480876\n",
      "\n",
      "\tReplicate: 3/3\n",
      "\t\tIter\tLoss\t\t\tRel. loss\n",
      "\t\tFinal loss:\n",
      "\t\t300\t0.7188209\t0.00082611246\n",
      "\n",
      "\tBest loss: 0.7188209295272827\n",
      "\n",
      "Number of miss-classifications for ANN:\n",
      "\t 2 out of 42. Overall error_rate 0.0476190485060215\n",
      "\n",
      "\tReplicate: 1/3\n",
      "\t\tIter\tLoss\t\t\tRel. loss\n",
      "\t\tFinal loss:\n",
      "\t\t300\t0.6709052\t0.00075095124\n",
      "\n",
      "\tReplicate: 2/3\n",
      "\t\tIter\tLoss\t\t\tRel. loss\n",
      "\t\tFinal loss:\n",
      "\t\t300\t0.703593\t0.0008470216\n",
      "\n",
      "\tReplicate: 3/3\n",
      "\t\tIter\tLoss\t\t\tRel. loss\n",
      "\t\tFinal loss:\n",
      "\t\t300\t0.73080003\t0.00081445486\n",
      "\n",
      "\tBest loss: 0.6709051728248596\n",
      "\n",
      "Number of miss-classifications for ANN:\n",
      "\t 8 out of 42. Overall error_rate 0.190476194024086\n",
      "\n",
      "\tReplicate: 1/3\n",
      "\t\tIter\tLoss\t\t\tRel. loss\n",
      "\t\tFinal loss:\n",
      "\t\t300\t0.73909426\t0.00063524424\n",
      "\n",
      "\tReplicate: 2/3\n",
      "\t\tIter\tLoss\t\t\tRel. loss\n",
      "\t\tFinal loss:\n",
      "\t\t300\t0.68874073\t0.0007406788\n",
      "\n",
      "\tReplicate: 3/3\n",
      "\t\tIter\tLoss\t\t\tRel. loss\n",
      "\t\tFinal loss:\n",
      "\t\t300\t0.67634046\t0.0005544592\n",
      "\n",
      "\tBest loss: 0.6763404607772827\n",
      "\n",
      "Number of miss-classifications for ANN:\n",
      "\t 4 out of 42. Overall error_rate 0.095238097012043\n",
      "\n",
      "\tReplicate: 1/3\n",
      "\t\tIter\tLoss\t\t\tRel. loss\n",
      "\t\tFinal loss:\n",
      "\t\t300\t0.70562714\t0.0005787942\n",
      "\n",
      "\tReplicate: 2/3\n",
      "\t\tIter\tLoss\t\t\tRel. loss\n",
      "\t\tFinal loss:\n",
      "\t\t300\t0.7220748\t0.00085889944\n",
      "\n",
      "\tReplicate: 3/3\n",
      "\t\tIter\tLoss\t\t\tRel. loss\n",
      "\t\tFinal loss:\n",
      "\t\t300\t0.7010361\t0.0006685188\n",
      "\n",
      "\tBest loss: 0.7010360956192017\n",
      "\n",
      "Number of miss-classifications for ANN:\n",
      "\t 4 out of 41. Overall error_rate 0.09756097197532654\n"
     ]
    }
   ],
   "source": [
    "for train_index, test_index in CV.split(X_standardized, y):\n",
    "    X_train = torch.from_numpy(X_standardized[train_index]).type(torch.float)\n",
    "    y_train = torch.from_numpy(y[train_index]).type(torch.long)\n",
    "    X_test = torch.from_numpy(X_standardized[test_index]).type(torch.float)\n",
    "    y_test = torch.from_numpy(y[test_index]).type(torch.long)\n",
    "    # X_train = torch.from_numpy(X[train_index]).type(torch.float).to(device)\n",
    "    # y_train = torch.from_numpy(y[train_index]).type(torch.long).to(device)\n",
    "    # X_test = torch.from_numpy(X[test_index]).type(torch.float).to(device)\n",
    "    # y_test = torch.from_numpy(y[test_index]).type(torch.long).to(device)\n",
    "    # Recall that last column represents the classes and should not be used as an input feature\n",
    "    input_features = M - 1\n",
    "    num_epochs = 300\n",
    "    loss_fn = torch.nn.CrossEntropyLoss()\n",
    "    n_hidden_units = 8\n",
    "    seed_model = lambda: torch.nn.Sequential(\n",
    "        torch.nn.Linear(input_features, n_hidden_units),  \n",
    "        torch.nn.ReLU(),\n",
    "        torch.nn.Linear(n_hidden_units, C),\n",
    "        torch.nn.Softmax(dim=1)\n",
    "    )\n",
    "    net, final_loss, learning_curve = train_neural_net(\n",
    "        seed_model,\n",
    "        loss_fn,\n",
    "        X=X_train,\n",
    "        y=y_train,\n",
    "        n_replicates=3,\n",
    "        max_iter=num_epochs,\n",
    "    )\n",
    "    print(\"\\n\\tBest loss: {}\\n\".format(final_loss))\n",
    "\n",
    "    # Determine probability of each class using trained network\n",
    "    softmax_logits = net(X_test)\n",
    "    # convert to label with the highest probability\n",
    "    y_preds = torch.argmax(softmax_logits, dim=1)\n",
    "    # Compare error against ground truth y_test\n",
    "    e = y_preds != y_test\n",
    "    error_rate = sum(e) / len(e)\n",
    "    print(\n",
    "        f\"Number of miss-classifications for ANN:\\n\\t {sum(e)} out of {len(e)}. Overall error_rate {error_rate}\")"
   ]
  },
  {
   "cell_type": "markdown",
   "metadata": {},
   "source": [
    "## "
   ]
  },
  {
   "cell_type": "markdown",
   "metadata": {},
   "source": [
    "## Evaluation with two level cross validation\n",
    "# TODO add baseline model and workflow as well"
   ]
  }
 ],
 "metadata": {
  "kernelspec": {
   "display_name": "base",
   "language": "python",
   "name": "python3"
  },
  "language_info": {
   "codemirror_mode": {
    "name": "ipython",
    "version": 3
   },
   "file_extension": ".py",
   "mimetype": "text/x-python",
   "name": "python",
   "nbconvert_exporter": "python",
   "pygments_lexer": "ipython3",
   "version": "3.12.7"
  }
 },
 "nbformat": 4,
 "nbformat_minor": 2
}
